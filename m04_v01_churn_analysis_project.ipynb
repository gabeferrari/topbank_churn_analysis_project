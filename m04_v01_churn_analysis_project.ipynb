{
 "cells": [
  {
   "cell_type": "markdown",
   "metadata": {},
   "source": [
    "### 0.0 Imports"
   ]
  },
  {
   "cell_type": "code",
   "execution_count": 3,
   "metadata": {},
   "outputs": [],
   "source": [
    "import pandas as pd\n",
    "import numpy as np\n",
    "import matplotlib.pyplot as plt\n",
    "import seaborn as sns\n",
    "\n",
    "# util\n",
    "import inflection\n",
    "from IPython.display import Image\n",
    "from scipy import stats"
   ]
  },
  {
   "cell_type": "markdown",
   "metadata": {},
   "source": [
    "### 0.1 Helper Functions"
   ]
  },
  {
   "cell_type": "code",
   "execution_count": 1,
   "metadata": {},
   "outputs": [],
   "source": [
    "# Just so I can remember their meaning throughtout the analysis\n",
    "def describe_columns():\n",
    "    columns_explanation = '''\n",
    "            RowNumber: Row number\\n\n",
    "            CustomerID: Customer ID\\n\n",
    "            Surname: Surname.\\n\n",
    "            CreditScore: The customer's Credit score for the consumer market.\\n\n",
    "            Geography: The country where the customer lives.\\n\n",
    "            Gender: Gender.\\n\n",
    "            Age: Age.\\n\n",
    "            Tenure: How many years has the customer been a bank customer.\\n\n",
    "            Balance: Monetary value that the customer has in his bank account.\\n\n",
    "            NumOfProducts: The number of products purchased by the customer at the bank.\\n\n",
    "            HasCrCard: Indicates whether the customer has a credit card or not.\\n\n",
    "            IsActiveMember: Indicates whether the customer made at least one transaction in the bank account within 12 months.\\n\n",
    "            EstimateSalary: Estimated Annual Salary.\\n\n",
    "            Exited: Indicates whether the customer is in Churn or not.\\n'''\n",
    "    print(columns_explanation)\n",
    "\n",
    "    \n",
    "def describe_data(data):\n",
    "    print(f\"Shape: {data.shape}\")\n",
    "    print(f\"Duplicates: {data.duplicated().any()}\")\n",
    "    \n",
    "    is_na = data.isna().sum()\n",
    "    is_na_percentage = data.isna().sum()/data.shape[0]*100\n",
    "    nan_data_frame = pd.concat([data.dtypes, is_na, is_na_percentage], axis=1)\n",
    "    nan_data_frame.columns = ['data_types', 'nan_count', 'nan_percentage']\n",
    "    #display(nan_data_frame)\n",
    "    return nan_data_frame\n",
    "    \n",
    "    "
   ]
  },
  {
   "cell_type": "markdown",
   "metadata": {},
   "source": [
    "### 0.2 Loading Data"
   ]
  },
  {
   "cell_type": "code",
   "execution_count": 4,
   "metadata": {},
   "outputs": [
    {
     "data": {
      "text/html": [
       "<div>\n",
       "<style scoped>\n",
       "    .dataframe tbody tr th:only-of-type {\n",
       "        vertical-align: middle;\n",
       "    }\n",
       "\n",
       "    .dataframe tbody tr th {\n",
       "        vertical-align: top;\n",
       "    }\n",
       "\n",
       "    .dataframe thead th {\n",
       "        text-align: right;\n",
       "    }\n",
       "</style>\n",
       "<table border=\"1\" class=\"dataframe\">\n",
       "  <thead>\n",
       "    <tr style=\"text-align: right;\">\n",
       "      <th></th>\n",
       "      <th>RowNumber</th>\n",
       "      <th>CustomerId</th>\n",
       "      <th>Surname</th>\n",
       "      <th>CreditScore</th>\n",
       "      <th>Geography</th>\n",
       "      <th>Gender</th>\n",
       "      <th>Age</th>\n",
       "      <th>Tenure</th>\n",
       "      <th>Balance</th>\n",
       "      <th>NumOfProducts</th>\n",
       "      <th>HasCrCard</th>\n",
       "      <th>IsActiveMember</th>\n",
       "      <th>EstimatedSalary</th>\n",
       "      <th>Exited</th>\n",
       "    </tr>\n",
       "  </thead>\n",
       "  <tbody>\n",
       "    <tr>\n",
       "      <th>0</th>\n",
       "      <td>1</td>\n",
       "      <td>15634602</td>\n",
       "      <td>Hargrave</td>\n",
       "      <td>619</td>\n",
       "      <td>France</td>\n",
       "      <td>Female</td>\n",
       "      <td>42</td>\n",
       "      <td>2</td>\n",
       "      <td>0.00</td>\n",
       "      <td>1</td>\n",
       "      <td>1</td>\n",
       "      <td>1</td>\n",
       "      <td>101348.88</td>\n",
       "      <td>1</td>\n",
       "    </tr>\n",
       "    <tr>\n",
       "      <th>1</th>\n",
       "      <td>2</td>\n",
       "      <td>15647311</td>\n",
       "      <td>Hill</td>\n",
       "      <td>608</td>\n",
       "      <td>Spain</td>\n",
       "      <td>Female</td>\n",
       "      <td>41</td>\n",
       "      <td>1</td>\n",
       "      <td>83807.86</td>\n",
       "      <td>1</td>\n",
       "      <td>0</td>\n",
       "      <td>1</td>\n",
       "      <td>112542.58</td>\n",
       "      <td>0</td>\n",
       "    </tr>\n",
       "    <tr>\n",
       "      <th>2</th>\n",
       "      <td>3</td>\n",
       "      <td>15619304</td>\n",
       "      <td>Onio</td>\n",
       "      <td>502</td>\n",
       "      <td>France</td>\n",
       "      <td>Female</td>\n",
       "      <td>42</td>\n",
       "      <td>8</td>\n",
       "      <td>159660.80</td>\n",
       "      <td>3</td>\n",
       "      <td>1</td>\n",
       "      <td>0</td>\n",
       "      <td>113931.57</td>\n",
       "      <td>1</td>\n",
       "    </tr>\n",
       "  </tbody>\n",
       "</table>\n",
       "</div>"
      ],
      "text/plain": [
       "   RowNumber  CustomerId   Surname  CreditScore Geography  Gender  Age  \\\n",
       "0          1    15634602  Hargrave          619    France  Female   42   \n",
       "1          2    15647311      Hill          608     Spain  Female   41   \n",
       "2          3    15619304      Onio          502    France  Female   42   \n",
       "\n",
       "   Tenure    Balance  NumOfProducts  HasCrCard  IsActiveMember  \\\n",
       "0       2       0.00              1          1               1   \n",
       "1       1   83807.86              1          0               1   \n",
       "2       8  159660.80              3          1               0   \n",
       "\n",
       "   EstimatedSalary  Exited  \n",
       "0        101348.88       1  \n",
       "1        112542.58       0  \n",
       "2        113931.57       1  "
      ]
     },
     "execution_count": 4,
     "metadata": {},
     "output_type": "execute_result"
    }
   ],
   "source": [
    "raw_data = pd.read_csv(\"churn.csv\")\n",
    "raw_data.head(3)"
   ]
  },
  {
   "cell_type": "markdown",
   "metadata": {},
   "source": [
    "## 1.0 Describe Data"
   ]
  },
  {
   "cell_type": "code",
   "execution_count": 3,
   "metadata": {},
   "outputs": [],
   "source": [
    "data = raw_data.copy()"
   ]
  },
  {
   "cell_type": "markdown",
   "metadata": {},
   "source": [
    "### Columns Dictionary\n",
    "\n",
    "        RowNumber: Row number\n",
    "        \n",
    "        CustomerID: Customer ID\n",
    "        \n",
    "        Surname: Surname\n",
    "        \n",
    "        CreditScore: The customer's Credit score for the consumer market\n",
    "        \n",
    "        Geography: The country where the customer lives\n",
    "        \n",
    "        Gender: Gender\n",
    "        \n",
    "        Age: Age\n",
    "        \n",
    "        Tenure: How many years has the customer been a bank customer\n",
    "        \n",
    "        Balance: Monetary value that the customer has in his bank account\n",
    "        \n",
    "        NumOfProducts: The number of products purchased by the customer at the bank\n",
    "        \n",
    "        HasCrCard: Indicates whether the customer has a credit card or not.\n",
    "        \n",
    "        IsActiveMember: Indicates whether the customer made at least one transaction\n",
    "                        in the bank account within 12 months.\n",
    "                        \n",
    "        EstimateSalary: Estimated Annual Salary\n",
    "        \n",
    "        Exited: Indicates whether the customer is in Churn or not.\n",
    "\n",
    "\n"
   ]
  },
  {
   "cell_type": "markdown",
   "metadata": {},
   "source": [
    "### 1.1 Rename Columns"
   ]
  },
  {
   "cell_type": "code",
   "execution_count": 4,
   "metadata": {},
   "outputs": [
    {
     "data": {
      "text/plain": [
       "Index(['RowNumber', 'CustomerId', 'Surname', 'CreditScore', 'Geography',\n",
       "       'Gender', 'Age', 'Tenure', 'Balance', 'NumOfProducts', 'HasCrCard',\n",
       "       'IsActiveMember', 'EstimatedSalary', 'Exited'],\n",
       "      dtype='object')"
      ]
     },
     "execution_count": 4,
     "metadata": {},
     "output_type": "execute_result"
    }
   ],
   "source": [
    "data.columns"
   ]
  },
  {
   "cell_type": "code",
   "execution_count": 5,
   "metadata": {},
   "outputs": [
    {
     "data": {
      "text/plain": [
       "Index(['row_number', 'customer_id', 'surname', 'credit_score', 'geography',\n",
       "       'gender', 'age', 'tenure', 'balance', 'num_of_products', 'has_cr_card',\n",
       "       'is_active_member', 'estimated_salary', 'exited'],\n",
       "      dtype='object')"
      ]
     },
     "execution_count": 5,
     "metadata": {},
     "output_type": "execute_result"
    }
   ],
   "source": [
    "old_columns = data.columns\n",
    "\n",
    "# transform snakecase with inflection\n",
    "snakecase = lambda x: inflection.underscore(x)\n",
    "new_columns = map(snakecase, old_columns)\n",
    "\n",
    "data.columns = new_columns\n",
    "data.columns"
   ]
  },
  {
   "cell_type": "code",
   "execution_count": 10,
   "metadata": {},
   "outputs": [],
   "source": [
    "data.to_csv(\"churn_data.csv\", index=False) # I'll use it way later in the web app"
   ]
  },
  {
   "cell_type": "markdown",
   "metadata": {},
   "source": [
    "> **0 missing values and also no duplicates.** It's a good start."
   ]
  },
  {
   "cell_type": "code",
   "execution_count": 8,
   "metadata": {
    "scrolled": false
   },
   "outputs": [
    {
     "name": "stdout",
     "output_type": "stream",
     "text": [
      "Shape: (10000, 14)\n",
      "Duplicates: False\n"
     ]
    },
    {
     "data": {
      "text/html": [
       "<div>\n",
       "<style scoped>\n",
       "    .dataframe tbody tr th:only-of-type {\n",
       "        vertical-align: middle;\n",
       "    }\n",
       "\n",
       "    .dataframe tbody tr th {\n",
       "        vertical-align: top;\n",
       "    }\n",
       "\n",
       "    .dataframe thead th {\n",
       "        text-align: right;\n",
       "    }\n",
       "</style>\n",
       "<table border=\"1\" class=\"dataframe\">\n",
       "  <thead>\n",
       "    <tr style=\"text-align: right;\">\n",
       "      <th></th>\n",
       "      <th>data_types</th>\n",
       "      <th>nan_count</th>\n",
       "      <th>nan_percentage</th>\n",
       "    </tr>\n",
       "  </thead>\n",
       "  <tbody>\n",
       "    <tr>\n",
       "      <th>row_number</th>\n",
       "      <td>int64</td>\n",
       "      <td>0</td>\n",
       "      <td>0.0</td>\n",
       "    </tr>\n",
       "    <tr>\n",
       "      <th>customer_id</th>\n",
       "      <td>int64</td>\n",
       "      <td>0</td>\n",
       "      <td>0.0</td>\n",
       "    </tr>\n",
       "    <tr>\n",
       "      <th>surname</th>\n",
       "      <td>object</td>\n",
       "      <td>0</td>\n",
       "      <td>0.0</td>\n",
       "    </tr>\n",
       "    <tr>\n",
       "      <th>credit_score</th>\n",
       "      <td>int64</td>\n",
       "      <td>0</td>\n",
       "      <td>0.0</td>\n",
       "    </tr>\n",
       "    <tr>\n",
       "      <th>geography</th>\n",
       "      <td>object</td>\n",
       "      <td>0</td>\n",
       "      <td>0.0</td>\n",
       "    </tr>\n",
       "    <tr>\n",
       "      <th>gender</th>\n",
       "      <td>object</td>\n",
       "      <td>0</td>\n",
       "      <td>0.0</td>\n",
       "    </tr>\n",
       "    <tr>\n",
       "      <th>age</th>\n",
       "      <td>int64</td>\n",
       "      <td>0</td>\n",
       "      <td>0.0</td>\n",
       "    </tr>\n",
       "    <tr>\n",
       "      <th>tenure</th>\n",
       "      <td>int64</td>\n",
       "      <td>0</td>\n",
       "      <td>0.0</td>\n",
       "    </tr>\n",
       "    <tr>\n",
       "      <th>balance</th>\n",
       "      <td>float64</td>\n",
       "      <td>0</td>\n",
       "      <td>0.0</td>\n",
       "    </tr>\n",
       "    <tr>\n",
       "      <th>num_of_products</th>\n",
       "      <td>int64</td>\n",
       "      <td>0</td>\n",
       "      <td>0.0</td>\n",
       "    </tr>\n",
       "    <tr>\n",
       "      <th>has_cr_card</th>\n",
       "      <td>int64</td>\n",
       "      <td>0</td>\n",
       "      <td>0.0</td>\n",
       "    </tr>\n",
       "    <tr>\n",
       "      <th>is_active_member</th>\n",
       "      <td>int64</td>\n",
       "      <td>0</td>\n",
       "      <td>0.0</td>\n",
       "    </tr>\n",
       "    <tr>\n",
       "      <th>estimated_salary</th>\n",
       "      <td>float64</td>\n",
       "      <td>0</td>\n",
       "      <td>0.0</td>\n",
       "    </tr>\n",
       "    <tr>\n",
       "      <th>exited</th>\n",
       "      <td>int64</td>\n",
       "      <td>0</td>\n",
       "      <td>0.0</td>\n",
       "    </tr>\n",
       "  </tbody>\n",
       "</table>\n",
       "</div>"
      ],
      "text/plain": [
       "                 data_types  nan_count  nan_percentage\n",
       "row_number            int64          0             0.0\n",
       "customer_id           int64          0             0.0\n",
       "surname              object          0             0.0\n",
       "credit_score          int64          0             0.0\n",
       "geography            object          0             0.0\n",
       "gender               object          0             0.0\n",
       "age                   int64          0             0.0\n",
       "tenure                int64          0             0.0\n",
       "balance             float64          0             0.0\n",
       "num_of_products       int64          0             0.0\n",
       "has_cr_card           int64          0             0.0\n",
       "is_active_member      int64          0             0.0\n",
       "estimated_salary    float64          0             0.0\n",
       "exited                int64          0             0.0"
      ]
     },
     "execution_count": 8,
     "metadata": {},
     "output_type": "execute_result"
    }
   ],
   "source": [
    "describe_data(data)"
   ]
  },
  {
   "cell_type": "markdown",
   "metadata": {},
   "source": [
    "### 1.2 Descriptive Statistical"
   ]
  },
  {
   "cell_type": "code",
   "execution_count": 9,
   "metadata": {},
   "outputs": [],
   "source": [
    "numerical_attributes = data.select_dtypes( include=['int64', 'float64'] )\n",
    "categorical_attributes = data.select_dtypes( exclude=['int64', 'float64'] )"
   ]
  },
  {
   "cell_type": "markdown",
   "metadata": {},
   "source": [
    "#### 1.2.1. Numerical Attributes\n",
    "\n",
    "From here We already know that\n",
    "    \n",
    "> **20% of customers are in churn.**\n",
    ">\n",
    "> Half of customers are active members.\n",
    ">\n",
    "> 70% has credit card.\n",
    "> \n",
    "\n",
    "    And the minimum salary seems too low (we'll check it out later).\n",
    "   "
   ]
  },
  {
   "cell_type": "code",
   "execution_count": 10,
   "metadata": {
    "scrolled": false
   },
   "outputs": [
    {
     "data": {
      "text/html": [
       "<style  type=\"text/css\" >\n",
       "    #T_9b87e13a_4e8d_11eb_a975_00241dfb2babrow7_col0 {\n",
       "            background-color:  lightgreen;\n",
       "        }    #T_9b87e13a_4e8d_11eb_a975_00241dfb2babrow8_col0 {\n",
       "            background-color:  lightgreen;\n",
       "        }    #T_9b87e13a_4e8d_11eb_a975_00241dfb2babrow9_col2 {\n",
       "            background-color:  red;\n",
       "        }    #T_9b87e13a_4e8d_11eb_a975_00241dfb2babrow10_col0 {\n",
       "            background-color:  lightgreen;\n",
       "        }</style><table id=\"T_9b87e13a_4e8d_11eb_a975_00241dfb2bab\" ><thead>    <tr>        <th class=\"blank level0\" ></th>        <th class=\"col_heading level0 col0\" >mean</th>        <th class=\"col_heading level0 col1\" >std</th>        <th class=\"col_heading level0 col2\" >min</th>        <th class=\"col_heading level0 col3\" >25%</th>        <th class=\"col_heading level0 col4\" >50%</th>        <th class=\"col_heading level0 col5\" >75%</th>        <th class=\"col_heading level0 col6\" >max</th>        <th class=\"col_heading level0 col7\" >skew</th>        <th class=\"col_heading level0 col8\" >kurtosis</th>    </tr></thead><tbody>\n",
       "                <tr>\n",
       "                        <th id=\"T_9b87e13a_4e8d_11eb_a975_00241dfb2bablevel0_row0\" class=\"row_heading level0 row0\" >row_number</th>\n",
       "                        <td id=\"T_9b87e13a_4e8d_11eb_a975_00241dfb2babrow0_col0\" class=\"data row0 col0\" >5000.50</td>\n",
       "                        <td id=\"T_9b87e13a_4e8d_11eb_a975_00241dfb2babrow0_col1\" class=\"data row0 col1\" >2886.90</td>\n",
       "                        <td id=\"T_9b87e13a_4e8d_11eb_a975_00241dfb2babrow0_col2\" class=\"data row0 col2\" >1.00</td>\n",
       "                        <td id=\"T_9b87e13a_4e8d_11eb_a975_00241dfb2babrow0_col3\" class=\"data row0 col3\" >2500.75</td>\n",
       "                        <td id=\"T_9b87e13a_4e8d_11eb_a975_00241dfb2babrow0_col4\" class=\"data row0 col4\" >5000.50</td>\n",
       "                        <td id=\"T_9b87e13a_4e8d_11eb_a975_00241dfb2babrow0_col5\" class=\"data row0 col5\" >7500.25</td>\n",
       "                        <td id=\"T_9b87e13a_4e8d_11eb_a975_00241dfb2babrow0_col6\" class=\"data row0 col6\" >10000.00</td>\n",
       "                        <td id=\"T_9b87e13a_4e8d_11eb_a975_00241dfb2babrow0_col7\" class=\"data row0 col7\" >0.00</td>\n",
       "                        <td id=\"T_9b87e13a_4e8d_11eb_a975_00241dfb2babrow0_col8\" class=\"data row0 col8\" >-1.20</td>\n",
       "            </tr>\n",
       "            <tr>\n",
       "                        <th id=\"T_9b87e13a_4e8d_11eb_a975_00241dfb2bablevel0_row1\" class=\"row_heading level0 row1\" >customer_id</th>\n",
       "                        <td id=\"T_9b87e13a_4e8d_11eb_a975_00241dfb2babrow1_col0\" class=\"data row1 col0\" >15690940.57</td>\n",
       "                        <td id=\"T_9b87e13a_4e8d_11eb_a975_00241dfb2babrow1_col1\" class=\"data row1 col1\" >71936.19</td>\n",
       "                        <td id=\"T_9b87e13a_4e8d_11eb_a975_00241dfb2babrow1_col2\" class=\"data row1 col2\" >15565701.00</td>\n",
       "                        <td id=\"T_9b87e13a_4e8d_11eb_a975_00241dfb2babrow1_col3\" class=\"data row1 col3\" >15628528.25</td>\n",
       "                        <td id=\"T_9b87e13a_4e8d_11eb_a975_00241dfb2babrow1_col4\" class=\"data row1 col4\" >15690738.00</td>\n",
       "                        <td id=\"T_9b87e13a_4e8d_11eb_a975_00241dfb2babrow1_col5\" class=\"data row1 col5\" >15753233.75</td>\n",
       "                        <td id=\"T_9b87e13a_4e8d_11eb_a975_00241dfb2babrow1_col6\" class=\"data row1 col6\" >15815690.00</td>\n",
       "                        <td id=\"T_9b87e13a_4e8d_11eb_a975_00241dfb2babrow1_col7\" class=\"data row1 col7\" >0.00</td>\n",
       "                        <td id=\"T_9b87e13a_4e8d_11eb_a975_00241dfb2babrow1_col8\" class=\"data row1 col8\" >-1.20</td>\n",
       "            </tr>\n",
       "            <tr>\n",
       "                        <th id=\"T_9b87e13a_4e8d_11eb_a975_00241dfb2bablevel0_row2\" class=\"row_heading level0 row2\" >credit_score</th>\n",
       "                        <td id=\"T_9b87e13a_4e8d_11eb_a975_00241dfb2babrow2_col0\" class=\"data row2 col0\" >650.53</td>\n",
       "                        <td id=\"T_9b87e13a_4e8d_11eb_a975_00241dfb2babrow2_col1\" class=\"data row2 col1\" >96.65</td>\n",
       "                        <td id=\"T_9b87e13a_4e8d_11eb_a975_00241dfb2babrow2_col2\" class=\"data row2 col2\" >350.00</td>\n",
       "                        <td id=\"T_9b87e13a_4e8d_11eb_a975_00241dfb2babrow2_col3\" class=\"data row2 col3\" >584.00</td>\n",
       "                        <td id=\"T_9b87e13a_4e8d_11eb_a975_00241dfb2babrow2_col4\" class=\"data row2 col4\" >652.00</td>\n",
       "                        <td id=\"T_9b87e13a_4e8d_11eb_a975_00241dfb2babrow2_col5\" class=\"data row2 col5\" >718.00</td>\n",
       "                        <td id=\"T_9b87e13a_4e8d_11eb_a975_00241dfb2babrow2_col6\" class=\"data row2 col6\" >850.00</td>\n",
       "                        <td id=\"T_9b87e13a_4e8d_11eb_a975_00241dfb2babrow2_col7\" class=\"data row2 col7\" >-0.07</td>\n",
       "                        <td id=\"T_9b87e13a_4e8d_11eb_a975_00241dfb2babrow2_col8\" class=\"data row2 col8\" >-0.43</td>\n",
       "            </tr>\n",
       "            <tr>\n",
       "                        <th id=\"T_9b87e13a_4e8d_11eb_a975_00241dfb2bablevel0_row3\" class=\"row_heading level0 row3\" >age</th>\n",
       "                        <td id=\"T_9b87e13a_4e8d_11eb_a975_00241dfb2babrow3_col0\" class=\"data row3 col0\" >38.92</td>\n",
       "                        <td id=\"T_9b87e13a_4e8d_11eb_a975_00241dfb2babrow3_col1\" class=\"data row3 col1\" >10.49</td>\n",
       "                        <td id=\"T_9b87e13a_4e8d_11eb_a975_00241dfb2babrow3_col2\" class=\"data row3 col2\" >18.00</td>\n",
       "                        <td id=\"T_9b87e13a_4e8d_11eb_a975_00241dfb2babrow3_col3\" class=\"data row3 col3\" >32.00</td>\n",
       "                        <td id=\"T_9b87e13a_4e8d_11eb_a975_00241dfb2babrow3_col4\" class=\"data row3 col4\" >37.00</td>\n",
       "                        <td id=\"T_9b87e13a_4e8d_11eb_a975_00241dfb2babrow3_col5\" class=\"data row3 col5\" >44.00</td>\n",
       "                        <td id=\"T_9b87e13a_4e8d_11eb_a975_00241dfb2babrow3_col6\" class=\"data row3 col6\" >92.00</td>\n",
       "                        <td id=\"T_9b87e13a_4e8d_11eb_a975_00241dfb2babrow3_col7\" class=\"data row3 col7\" >1.01</td>\n",
       "                        <td id=\"T_9b87e13a_4e8d_11eb_a975_00241dfb2babrow3_col8\" class=\"data row3 col8\" >1.40</td>\n",
       "            </tr>\n",
       "            <tr>\n",
       "                        <th id=\"T_9b87e13a_4e8d_11eb_a975_00241dfb2bablevel0_row4\" class=\"row_heading level0 row4\" >tenure</th>\n",
       "                        <td id=\"T_9b87e13a_4e8d_11eb_a975_00241dfb2babrow4_col0\" class=\"data row4 col0\" >5.01</td>\n",
       "                        <td id=\"T_9b87e13a_4e8d_11eb_a975_00241dfb2babrow4_col1\" class=\"data row4 col1\" >2.89</td>\n",
       "                        <td id=\"T_9b87e13a_4e8d_11eb_a975_00241dfb2babrow4_col2\" class=\"data row4 col2\" >0.00</td>\n",
       "                        <td id=\"T_9b87e13a_4e8d_11eb_a975_00241dfb2babrow4_col3\" class=\"data row4 col3\" >3.00</td>\n",
       "                        <td id=\"T_9b87e13a_4e8d_11eb_a975_00241dfb2babrow4_col4\" class=\"data row4 col4\" >5.00</td>\n",
       "                        <td id=\"T_9b87e13a_4e8d_11eb_a975_00241dfb2babrow4_col5\" class=\"data row4 col5\" >7.00</td>\n",
       "                        <td id=\"T_9b87e13a_4e8d_11eb_a975_00241dfb2babrow4_col6\" class=\"data row4 col6\" >10.00</td>\n",
       "                        <td id=\"T_9b87e13a_4e8d_11eb_a975_00241dfb2babrow4_col7\" class=\"data row4 col7\" >0.01</td>\n",
       "                        <td id=\"T_9b87e13a_4e8d_11eb_a975_00241dfb2babrow4_col8\" class=\"data row4 col8\" >-1.17</td>\n",
       "            </tr>\n",
       "            <tr>\n",
       "                        <th id=\"T_9b87e13a_4e8d_11eb_a975_00241dfb2bablevel0_row5\" class=\"row_heading level0 row5\" >balance</th>\n",
       "                        <td id=\"T_9b87e13a_4e8d_11eb_a975_00241dfb2babrow5_col0\" class=\"data row5 col0\" >76485.89</td>\n",
       "                        <td id=\"T_9b87e13a_4e8d_11eb_a975_00241dfb2babrow5_col1\" class=\"data row5 col1\" >62397.41</td>\n",
       "                        <td id=\"T_9b87e13a_4e8d_11eb_a975_00241dfb2babrow5_col2\" class=\"data row5 col2\" >0.00</td>\n",
       "                        <td id=\"T_9b87e13a_4e8d_11eb_a975_00241dfb2babrow5_col3\" class=\"data row5 col3\" >0.00</td>\n",
       "                        <td id=\"T_9b87e13a_4e8d_11eb_a975_00241dfb2babrow5_col4\" class=\"data row5 col4\" >97198.54</td>\n",
       "                        <td id=\"T_9b87e13a_4e8d_11eb_a975_00241dfb2babrow5_col5\" class=\"data row5 col5\" >127644.24</td>\n",
       "                        <td id=\"T_9b87e13a_4e8d_11eb_a975_00241dfb2babrow5_col6\" class=\"data row5 col6\" >250898.09</td>\n",
       "                        <td id=\"T_9b87e13a_4e8d_11eb_a975_00241dfb2babrow5_col7\" class=\"data row5 col7\" >-0.14</td>\n",
       "                        <td id=\"T_9b87e13a_4e8d_11eb_a975_00241dfb2babrow5_col8\" class=\"data row5 col8\" >-1.49</td>\n",
       "            </tr>\n",
       "            <tr>\n",
       "                        <th id=\"T_9b87e13a_4e8d_11eb_a975_00241dfb2bablevel0_row6\" class=\"row_heading level0 row6\" >num_of_products</th>\n",
       "                        <td id=\"T_9b87e13a_4e8d_11eb_a975_00241dfb2babrow6_col0\" class=\"data row6 col0\" >1.53</td>\n",
       "                        <td id=\"T_9b87e13a_4e8d_11eb_a975_00241dfb2babrow6_col1\" class=\"data row6 col1\" >0.58</td>\n",
       "                        <td id=\"T_9b87e13a_4e8d_11eb_a975_00241dfb2babrow6_col2\" class=\"data row6 col2\" >1.00</td>\n",
       "                        <td id=\"T_9b87e13a_4e8d_11eb_a975_00241dfb2babrow6_col3\" class=\"data row6 col3\" >1.00</td>\n",
       "                        <td id=\"T_9b87e13a_4e8d_11eb_a975_00241dfb2babrow6_col4\" class=\"data row6 col4\" >1.00</td>\n",
       "                        <td id=\"T_9b87e13a_4e8d_11eb_a975_00241dfb2babrow6_col5\" class=\"data row6 col5\" >2.00</td>\n",
       "                        <td id=\"T_9b87e13a_4e8d_11eb_a975_00241dfb2babrow6_col6\" class=\"data row6 col6\" >4.00</td>\n",
       "                        <td id=\"T_9b87e13a_4e8d_11eb_a975_00241dfb2babrow6_col7\" class=\"data row6 col7\" >0.75</td>\n",
       "                        <td id=\"T_9b87e13a_4e8d_11eb_a975_00241dfb2babrow6_col8\" class=\"data row6 col8\" >0.58</td>\n",
       "            </tr>\n",
       "            <tr>\n",
       "                        <th id=\"T_9b87e13a_4e8d_11eb_a975_00241dfb2bablevel0_row7\" class=\"row_heading level0 row7\" >has_cr_card</th>\n",
       "                        <td id=\"T_9b87e13a_4e8d_11eb_a975_00241dfb2babrow7_col0\" class=\"data row7 col0\" >0.71</td>\n",
       "                        <td id=\"T_9b87e13a_4e8d_11eb_a975_00241dfb2babrow7_col1\" class=\"data row7 col1\" >0.46</td>\n",
       "                        <td id=\"T_9b87e13a_4e8d_11eb_a975_00241dfb2babrow7_col2\" class=\"data row7 col2\" >0.00</td>\n",
       "                        <td id=\"T_9b87e13a_4e8d_11eb_a975_00241dfb2babrow7_col3\" class=\"data row7 col3\" >0.00</td>\n",
       "                        <td id=\"T_9b87e13a_4e8d_11eb_a975_00241dfb2babrow7_col4\" class=\"data row7 col4\" >1.00</td>\n",
       "                        <td id=\"T_9b87e13a_4e8d_11eb_a975_00241dfb2babrow7_col5\" class=\"data row7 col5\" >1.00</td>\n",
       "                        <td id=\"T_9b87e13a_4e8d_11eb_a975_00241dfb2babrow7_col6\" class=\"data row7 col6\" >1.00</td>\n",
       "                        <td id=\"T_9b87e13a_4e8d_11eb_a975_00241dfb2babrow7_col7\" class=\"data row7 col7\" >-0.90</td>\n",
       "                        <td id=\"T_9b87e13a_4e8d_11eb_a975_00241dfb2babrow7_col8\" class=\"data row7 col8\" >-1.19</td>\n",
       "            </tr>\n",
       "            <tr>\n",
       "                        <th id=\"T_9b87e13a_4e8d_11eb_a975_00241dfb2bablevel0_row8\" class=\"row_heading level0 row8\" >is_active_member</th>\n",
       "                        <td id=\"T_9b87e13a_4e8d_11eb_a975_00241dfb2babrow8_col0\" class=\"data row8 col0\" >0.52</td>\n",
       "                        <td id=\"T_9b87e13a_4e8d_11eb_a975_00241dfb2babrow8_col1\" class=\"data row8 col1\" >0.50</td>\n",
       "                        <td id=\"T_9b87e13a_4e8d_11eb_a975_00241dfb2babrow8_col2\" class=\"data row8 col2\" >0.00</td>\n",
       "                        <td id=\"T_9b87e13a_4e8d_11eb_a975_00241dfb2babrow8_col3\" class=\"data row8 col3\" >0.00</td>\n",
       "                        <td id=\"T_9b87e13a_4e8d_11eb_a975_00241dfb2babrow8_col4\" class=\"data row8 col4\" >1.00</td>\n",
       "                        <td id=\"T_9b87e13a_4e8d_11eb_a975_00241dfb2babrow8_col5\" class=\"data row8 col5\" >1.00</td>\n",
       "                        <td id=\"T_9b87e13a_4e8d_11eb_a975_00241dfb2babrow8_col6\" class=\"data row8 col6\" >1.00</td>\n",
       "                        <td id=\"T_9b87e13a_4e8d_11eb_a975_00241dfb2babrow8_col7\" class=\"data row8 col7\" >-0.06</td>\n",
       "                        <td id=\"T_9b87e13a_4e8d_11eb_a975_00241dfb2babrow8_col8\" class=\"data row8 col8\" >-2.00</td>\n",
       "            </tr>\n",
       "            <tr>\n",
       "                        <th id=\"T_9b87e13a_4e8d_11eb_a975_00241dfb2bablevel0_row9\" class=\"row_heading level0 row9\" >estimated_salary</th>\n",
       "                        <td id=\"T_9b87e13a_4e8d_11eb_a975_00241dfb2babrow9_col0\" class=\"data row9 col0\" >100090.24</td>\n",
       "                        <td id=\"T_9b87e13a_4e8d_11eb_a975_00241dfb2babrow9_col1\" class=\"data row9 col1\" >57510.49</td>\n",
       "                        <td id=\"T_9b87e13a_4e8d_11eb_a975_00241dfb2babrow9_col2\" class=\"data row9 col2\" >11.58</td>\n",
       "                        <td id=\"T_9b87e13a_4e8d_11eb_a975_00241dfb2babrow9_col3\" class=\"data row9 col3\" >51002.11</td>\n",
       "                        <td id=\"T_9b87e13a_4e8d_11eb_a975_00241dfb2babrow9_col4\" class=\"data row9 col4\" >100193.91</td>\n",
       "                        <td id=\"T_9b87e13a_4e8d_11eb_a975_00241dfb2babrow9_col5\" class=\"data row9 col5\" >149388.25</td>\n",
       "                        <td id=\"T_9b87e13a_4e8d_11eb_a975_00241dfb2babrow9_col6\" class=\"data row9 col6\" >199992.48</td>\n",
       "                        <td id=\"T_9b87e13a_4e8d_11eb_a975_00241dfb2babrow9_col7\" class=\"data row9 col7\" >0.00</td>\n",
       "                        <td id=\"T_9b87e13a_4e8d_11eb_a975_00241dfb2babrow9_col8\" class=\"data row9 col8\" >-1.18</td>\n",
       "            </tr>\n",
       "            <tr>\n",
       "                        <th id=\"T_9b87e13a_4e8d_11eb_a975_00241dfb2bablevel0_row10\" class=\"row_heading level0 row10\" >exited</th>\n",
       "                        <td id=\"T_9b87e13a_4e8d_11eb_a975_00241dfb2babrow10_col0\" class=\"data row10 col0\" >0.20</td>\n",
       "                        <td id=\"T_9b87e13a_4e8d_11eb_a975_00241dfb2babrow10_col1\" class=\"data row10 col1\" >0.40</td>\n",
       "                        <td id=\"T_9b87e13a_4e8d_11eb_a975_00241dfb2babrow10_col2\" class=\"data row10 col2\" >0.00</td>\n",
       "                        <td id=\"T_9b87e13a_4e8d_11eb_a975_00241dfb2babrow10_col3\" class=\"data row10 col3\" >0.00</td>\n",
       "                        <td id=\"T_9b87e13a_4e8d_11eb_a975_00241dfb2babrow10_col4\" class=\"data row10 col4\" >0.00</td>\n",
       "                        <td id=\"T_9b87e13a_4e8d_11eb_a975_00241dfb2babrow10_col5\" class=\"data row10 col5\" >0.00</td>\n",
       "                        <td id=\"T_9b87e13a_4e8d_11eb_a975_00241dfb2babrow10_col6\" class=\"data row10 col6\" >1.00</td>\n",
       "                        <td id=\"T_9b87e13a_4e8d_11eb_a975_00241dfb2babrow10_col7\" class=\"data row10 col7\" >1.47</td>\n",
       "                        <td id=\"T_9b87e13a_4e8d_11eb_a975_00241dfb2babrow10_col8\" class=\"data row10 col8\" >0.17</td>\n",
       "            </tr>\n",
       "    </tbody></table>"
      ],
      "text/plain": [
       "<pandas.io.formats.style.Styler at 0xdd0bd08>"
      ]
     },
     "execution_count": 10,
     "metadata": {},
     "output_type": "execute_result"
    }
   ],
   "source": [
    "skew = pd.DataFrame(numerical_attributes.apply(lambda x: x.skew()), columns=['skew']).T\n",
    "kurtosis = pd.DataFrame(numerical_attributes.apply(lambda x: x.kurtosis()), columns=['kurtosis']).T\n",
    "stats = pd.concat([data.describe(), skew, kurtosis]).T\n",
    "\n",
    "def style_specific_cell(x):\n",
    "    df = pd.DataFrame('', index=x.index, columns=x.columns)\n",
    "    df.iloc[8, 0] = df.iloc[7, 0] = df.iloc[-1, 0] = 'background-color: lightgreen'\n",
    "    df.iloc[-2, 2] = 'background-color: red'\n",
    "    return df\n",
    "\n",
    "stats.drop(columns='count').style.apply(style_specific_cell, axis=None).format(\"{:.2f}\")"
   ]
  },
  {
   "cell_type": "markdown",
   "metadata": {},
   "source": [
    "#### 1.2.2. Categorical Attributes"
   ]
  },
  {
   "cell_type": "code",
   "execution_count": 11,
   "metadata": {
    "scrolled": true
   },
   "outputs": [
    {
     "data": {
      "text/plain": [
       "surname      2932\n",
       "geography       3\n",
       "gender          2\n",
       "dtype: int64"
      ]
     },
     "execution_count": 11,
     "metadata": {},
     "output_type": "execute_result"
    }
   ],
   "source": [
    "categorical_attributes.apply( lambda x: x.unique().shape[0] )"
   ]
  },
  {
   "cell_type": "markdown",
   "metadata": {},
   "source": [
    "        So far, boxplots are pretty similar and the one which gets my attention is the \"balance\" one.\n",
    "        Even though the salaries among the countries are quite similar, people in Germany, in general,\n",
    "        has a greater balance account. Does it mean a better financial education? Anyways, it might \n",
    "        also mean that by losing a customer from Germany there's a high chance of losing a good customer."
   ]
  },
  {
   "cell_type": "code",
   "execution_count": 12,
   "metadata": {},
   "outputs": [
    {
     "data": {
      "text/plain": [
       "Index(['row_number', 'customer_id', 'credit_score', 'age', 'tenure', 'balance',\n",
       "       'num_of_products', 'has_cr_card', 'is_active_member',\n",
       "       'estimated_salary', 'exited'],\n",
       "      dtype='object')"
      ]
     },
     "execution_count": 12,
     "metadata": {},
     "output_type": "execute_result"
    }
   ],
   "source": [
    "numerical_attributes.columns"
   ]
  },
  {
   "cell_type": "code",
   "execution_count": 13,
   "metadata": {
    "scrolled": false
   },
   "outputs": [
    {
     "name": "stdout",
     "output_type": "stream",
     "text": [
      "\n",
      "\n",
      "\n"
     ]
    },
    {
     "data": {
      "image/png": "[encoded data removed]",
      "text/plain": [
       "<Figure size 1080x360 with 2 Axes>"
      ]
     },
     "metadata": {
      "needs_background": "light"
     },
     "output_type": "display_data"
    },
    {
     "name": "stdout",
     "output_type": "stream",
     "text": [
      "\n",
      "\n",
      "\n"
     ]
    },
    {
     "data": {
      "image/png": "[encoded data removed]",
      "text/plain": [
       "<Figure size 1080x360 with 2 Axes>"
      ]
     },
     "metadata": {
      "needs_background": "light"
     },
     "output_type": "display_data"
    },
    {
     "name": "stdout",
     "output_type": "stream",
     "text": [
      "\n",
      "\n",
      "\n"
     ]
    },
    {
     "data": {
      "image/png": "[encoded data removed]",
      "text/plain": [
       "<Figure size 1080x360 with 2 Axes>"
      ]
     },
     "metadata": {
      "needs_background": "light"
     },
     "output_type": "display_data"
    },
    {
     "name": "stdout",
     "output_type": "stream",
     "text": [
      "\n",
      "\n",
      "\n"
     ]
    },
    {
     "data": {
      "image/png": "[encoded data removed]",
      "text/plain": [
       "<Figure size 1080x360 with 2 Axes>"
      ]
     },
     "metadata": {
      "needs_background": "light"
     },
     "output_type": "display_data"
    },
    {
     "name": "stdout",
     "output_type": "stream",
     "text": [
      "\n",
      "\n",
      "\n"
     ]
    },
    {
     "data": {
      "image/png": "[encoded data removed]",
      "text/plain": [
       "<Figure size 1080x360 with 2 Axes>"
      ]
     },
     "metadata": {
      "needs_background": "light"
     },
     "output_type": "display_data"
    },
    {
     "name": "stdout",
     "output_type": "stream",
     "text": [
      "\n",
      "\n",
      "\n"
     ]
    },
    {
     "data": {
      "image/png": "[encoded data removed]",
      "text/plain": [
       "<Figure size 1080x360 with 2 Axes>"
      ]
     },
     "metadata": {
      "needs_background": "light"
     },
     "output_type": "display_data"
    }
   ],
   "source": [
    "numerical_attributes_list = ['credit_score', 'age', 'tenure', 'balance', 'num_of_products', 'estimated_salary']\n",
    "\n",
    "for attribute in numerical_attributes_list:\n",
    "    plt.figure(figsize=(15,5))\n",
    "    plt.subplot( 1, 2, 1 )\n",
    "    sns.boxplot( x='geography', y = attribute, data=data )\n",
    "\n",
    "    plt.subplot( 1, 2, 2 )\n",
    "    sns.boxplot( x='gender', y = attribute, data=data )\n",
    "    \n",
    "    print(\"\\n\\n\"); plt.show()"
   ]
  },
  {
   "cell_type": "markdown",
   "metadata": {},
   "source": [
    "## 2.0 Hypotheses Creation"
   ]
  },
  {
   "cell_type": "code",
   "execution_count": 13,
   "metadata": {},
   "outputs": [
    {
     "data": {
      "image/png": "[encoded data removed]",
      "text/plain": [
       "<IPython.core.display.Image object>"
      ]
     },
     "execution_count": 13,
     "metadata": {},
     "output_type": "execute_result"
    }
   ],
   "source": [
    "Image( 'hypotheses mind map.png' )"
   ]
  },
  {
   "cell_type": "markdown",
   "metadata": {},
   "source": [
    "### 2.1 Hypotheses\n",
    "\n",
    "#### 2.1.1. Customer hypotheses.\n",
    "\n",
    "**1.** Younger customers have higher churn rate.\n",
    "        \n",
    "        Which age brings more revenue?\n",
    "\n",
    "**2.** Higher balance customers have lower turnover rate.\n",
    "\n",
    "        Does higher balance mean more revenue?\n",
    "\n",
    "**3.** Customers with higer salaries have lower churn rate.\n",
    "\n",
    "        Does higher salary mean more revenue?\n",
    "\n",
    "**4.** Customers who are active members have lower churn rate.\n",
    "\n",
    "        How much do we earn from active members?\n",
    "\n",
    "**5.** Customers who buy more products have lower churn rate.\n",
    "\n",
    "        Who brings us more revenue from those?\n",
    "\n",
    "**6.** \"Older\" customers have lower churn rate.\n",
    "\n",
    "        The longer the time, greater is the revenue?\n",
    "\n",
    "**7.** Customers with credit card have a lower churn rate.\n",
    "\n",
    "        Are they the most responsible for revenue?\n",
    "\n",
    "**8.** Customers with higher credit score have lower churn rate.\n",
    "\n",
    "        Does a higher credit score mean more revenue?\n",
    "\n",
    "#### 2.1.3. Geography hypotheses.\n",
    "\n",
    "        Which country does the biggest revenue come from?\n",
    "\n",
    "**1.** Country that has more customers on \"active members group\" has lower churn rate.\n",
    "\n",
    "**2.** Country with higher average credit score has lower churn rate.\n",
    "\n",
    "**3.** Country with higher sum of balances have lower churn rate.\n",
    "\n",
    "**4.** Country with higher average balance have lower churn rate.\n",
    "\n",
    "**5.** Country with higher average salary has lower churn rate.\n",
    "\n",
    "**6.** Country with more credit card customers has lower churn rate."
   ]
  },
  {
   "cell_type": "markdown",
   "metadata": {},
   "source": [
    "## 3.0 Feature Engineering"
   ]
  },
  {
   "cell_type": "code",
   "execution_count": 14,
   "metadata": {},
   "outputs": [
    {
     "data": {
      "text/html": [
       "<div>\n",
       "<style scoped>\n",
       "    .dataframe tbody tr th:only-of-type {\n",
       "        vertical-align: middle;\n",
       "    }\n",
       "\n",
       "    .dataframe tbody tr th {\n",
       "        vertical-align: top;\n",
       "    }\n",
       "\n",
       "    .dataframe thead th {\n",
       "        text-align: right;\n",
       "    }\n",
       "</style>\n",
       "<table border=\"1\" class=\"dataframe\">\n",
       "  <thead>\n",
       "    <tr style=\"text-align: right;\">\n",
       "      <th></th>\n",
       "      <th>row_number</th>\n",
       "      <th>customer_id</th>\n",
       "      <th>surname</th>\n",
       "      <th>credit_score</th>\n",
       "      <th>geography</th>\n",
       "      <th>gender</th>\n",
       "      <th>age</th>\n",
       "      <th>tenure</th>\n",
       "      <th>balance</th>\n",
       "      <th>num_of_products</th>\n",
       "      <th>has_cr_card</th>\n",
       "      <th>is_active_member</th>\n",
       "      <th>estimated_salary</th>\n",
       "      <th>exited</th>\n",
       "    </tr>\n",
       "  </thead>\n",
       "  <tbody>\n",
       "    <tr>\n",
       "      <th>0</th>\n",
       "      <td>1</td>\n",
       "      <td>15634602</td>\n",
       "      <td>Hargrave</td>\n",
       "      <td>619</td>\n",
       "      <td>France</td>\n",
       "      <td>Female</td>\n",
       "      <td>42</td>\n",
       "      <td>2</td>\n",
       "      <td>0.00</td>\n",
       "      <td>1</td>\n",
       "      <td>1</td>\n",
       "      <td>1</td>\n",
       "      <td>101348.88</td>\n",
       "      <td>1</td>\n",
       "    </tr>\n",
       "    <tr>\n",
       "      <th>1</th>\n",
       "      <td>2</td>\n",
       "      <td>15647311</td>\n",
       "      <td>Hill</td>\n",
       "      <td>608</td>\n",
       "      <td>Spain</td>\n",
       "      <td>Female</td>\n",
       "      <td>41</td>\n",
       "      <td>1</td>\n",
       "      <td>83807.86</td>\n",
       "      <td>1</td>\n",
       "      <td>0</td>\n",
       "      <td>1</td>\n",
       "      <td>112542.58</td>\n",
       "      <td>0</td>\n",
       "    </tr>\n",
       "  </tbody>\n",
       "</table>\n",
       "</div>"
      ],
      "text/plain": [
       "   row_number  customer_id   surname  credit_score geography  gender  age  \\\n",
       "0           1     15634602  Hargrave           619    France  Female   42   \n",
       "1           2     15647311      Hill           608     Spain  Female   41   \n",
       "\n",
       "   tenure   balance  num_of_products  has_cr_card  is_active_member  \\\n",
       "0       2      0.00                1            1                 1   \n",
       "1       1  83807.86                1            0                 1   \n",
       "\n",
       "   estimated_salary  exited  \n",
       "0         101348.88       1  \n",
       "1         112542.58       0  "
      ]
     },
     "execution_count": 14,
     "metadata": {},
     "output_type": "execute_result"
    }
   ],
   "source": [
    "data.head(2)"
   ]
  },
  {
   "cell_type": "code",
   "execution_count": 15,
   "metadata": {
    "scrolled": true
   },
   "outputs": [
    {
     "name": "stdout",
     "output_type": "stream",
     "text": [
      "100090.24 100193.915\n"
     ]
    }
   ],
   "source": [
    "# symmetrical distribution - we'll use the mean\n",
    "print( round(data['estimated_salary'].mean(),2), data['estimated_salary'].median() )"
   ]
  },
  {
   "cell_type": "markdown",
   "metadata": {},
   "source": [
    "### 3.1 Annual Revenue\n",
    "\n",
    "    How much do TopBank expect to gain from this customer? \n",
    "\n",
    "**_According to the TopBank Analytics team, each customer who has this bank account returns a monetary value of 15% of the value of their estimated salary, if it is less than the average and 20% if this salary is higher than the average, during the current period of your account. This value is calculated annually._**\n",
    "\n",
    "Let's calculate the annual revenue, then."
   ]
  },
  {
   "cell_type": "code",
   "execution_count": 16,
   "metadata": {},
   "outputs": [],
   "source": [
    "mean_salary = data['estimated_salary'].mean()\n",
    "TWELVE_MONTHS = 12\n",
    "\n",
    "data['annual_revenue'] = [(salary/TWELVE_MONTHS)*0.2 if salary > mean_salary else (salary/TWELVE_MONTHS)*0.15 \n",
    "                           for salary in data['estimated_salary']]"
   ]
  },
  {
   "cell_type": "markdown",
   "metadata": {},
   "source": [
    "### 3.2 Revenue per Product\n",
    "\n",
    "    Would it be \"How much is this customer paying for each product?\"?\n",
    "    Not quite, but since we don't have this specific data, let's use \n",
    "    it as an alternative."
   ]
  },
  {
   "cell_type": "code",
   "execution_count": 17,
   "metadata": {},
   "outputs": [],
   "source": [
    "data['revenue_per_product'] = data['annual_revenue'] / data['num_of_products']"
   ]
  },
  {
   "cell_type": "markdown",
   "metadata": {},
   "source": [
    "### 3.3 Total Revenue\n",
    "\n",
    "    How much did TopBank earn with this customer until today?"
   ]
  },
  {
   "cell_type": "code",
   "execution_count": 18,
   "metadata": {
    "scrolled": true
   },
   "outputs": [],
   "source": [
    "data['total_revenue'] = [tenure*annual_earning if tenure > 0 else annual_earning\n",
    "                         for tenure, annual_earning in zip(data['tenure'], data['annual_revenue'])]"
   ]
  },
  {
   "cell_type": "markdown",
   "metadata": {},
   "source": [
    "## 4.0 Filtering The Features"
   ]
  },
  {
   "cell_type": "code",
   "execution_count": 19,
   "metadata": {},
   "outputs": [
    {
     "data": {
      "text/html": [
       "<div>\n",
       "<style scoped>\n",
       "    .dataframe tbody tr th:only-of-type {\n",
       "        vertical-align: middle;\n",
       "    }\n",
       "\n",
       "    .dataframe tbody tr th {\n",
       "        vertical-align: top;\n",
       "    }\n",
       "\n",
       "    .dataframe thead th {\n",
       "        text-align: right;\n",
       "    }\n",
       "</style>\n",
       "<table border=\"1\" class=\"dataframe\">\n",
       "  <thead>\n",
       "    <tr style=\"text-align: right;\">\n",
       "      <th></th>\n",
       "      <th>row_number</th>\n",
       "      <th>customer_id</th>\n",
       "      <th>surname</th>\n",
       "      <th>credit_score</th>\n",
       "      <th>geography</th>\n",
       "      <th>gender</th>\n",
       "      <th>age</th>\n",
       "      <th>tenure</th>\n",
       "      <th>balance</th>\n",
       "      <th>num_of_products</th>\n",
       "      <th>has_cr_card</th>\n",
       "      <th>is_active_member</th>\n",
       "      <th>estimated_salary</th>\n",
       "      <th>exited</th>\n",
       "      <th>annual_revenue</th>\n",
       "      <th>revenue_per_product</th>\n",
       "      <th>total_revenue</th>\n",
       "    </tr>\n",
       "  </thead>\n",
       "  <tbody>\n",
       "    <tr>\n",
       "      <th>0</th>\n",
       "      <td>1</td>\n",
       "      <td>15634602</td>\n",
       "      <td>Hargrave</td>\n",
       "      <td>619</td>\n",
       "      <td>France</td>\n",
       "      <td>Female</td>\n",
       "      <td>42</td>\n",
       "      <td>2</td>\n",
       "      <td>0.00</td>\n",
       "      <td>1</td>\n",
       "      <td>1</td>\n",
       "      <td>1</td>\n",
       "      <td>101348.88</td>\n",
       "      <td>1</td>\n",
       "      <td>1689.148000</td>\n",
       "      <td>1689.148000</td>\n",
       "      <td>3378.296000</td>\n",
       "    </tr>\n",
       "    <tr>\n",
       "      <th>1</th>\n",
       "      <td>2</td>\n",
       "      <td>15647311</td>\n",
       "      <td>Hill</td>\n",
       "      <td>608</td>\n",
       "      <td>Spain</td>\n",
       "      <td>Female</td>\n",
       "      <td>41</td>\n",
       "      <td>1</td>\n",
       "      <td>83807.86</td>\n",
       "      <td>1</td>\n",
       "      <td>0</td>\n",
       "      <td>1</td>\n",
       "      <td>112542.58</td>\n",
       "      <td>0</td>\n",
       "      <td>1875.709667</td>\n",
       "      <td>1875.709667</td>\n",
       "      <td>1875.709667</td>\n",
       "    </tr>\n",
       "    <tr>\n",
       "      <th>2</th>\n",
       "      <td>3</td>\n",
       "      <td>15619304</td>\n",
       "      <td>Onio</td>\n",
       "      <td>502</td>\n",
       "      <td>France</td>\n",
       "      <td>Female</td>\n",
       "      <td>42</td>\n",
       "      <td>8</td>\n",
       "      <td>159660.80</td>\n",
       "      <td>3</td>\n",
       "      <td>1</td>\n",
       "      <td>0</td>\n",
       "      <td>113931.57</td>\n",
       "      <td>1</td>\n",
       "      <td>1898.859500</td>\n",
       "      <td>632.953167</td>\n",
       "      <td>15190.876000</td>\n",
       "    </tr>\n",
       "  </tbody>\n",
       "</table>\n",
       "</div>"
      ],
      "text/plain": [
       "   row_number  customer_id   surname  credit_score geography  gender  age  \\\n",
       "0           1     15634602  Hargrave           619    France  Female   42   \n",
       "1           2     15647311      Hill           608     Spain  Female   41   \n",
       "2           3     15619304      Onio           502    France  Female   42   \n",
       "\n",
       "   tenure    balance  num_of_products  has_cr_card  is_active_member  \\\n",
       "0       2       0.00                1            1                 1   \n",
       "1       1   83807.86                1            0                 1   \n",
       "2       8  159660.80                3            1                 0   \n",
       "\n",
       "   estimated_salary  exited  annual_revenue  revenue_per_product  \\\n",
       "0         101348.88       1     1689.148000          1689.148000   \n",
       "1         112542.58       0     1875.709667          1875.709667   \n",
       "2         113931.57       1     1898.859500           632.953167   \n",
       "\n",
       "   total_revenue  \n",
       "0    3378.296000  \n",
       "1    1875.709667  \n",
       "2   15190.876000  "
      ]
     },
     "execution_count": 19,
     "metadata": {},
     "output_type": "execute_result"
    }
   ],
   "source": [
    "data_frame = data.copy()\n",
    "data_frame.head(3)"
   ]
  },
  {
   "cell_type": "markdown",
   "metadata": {},
   "source": [
    "### 4.1 Column Selection\n",
    "\n",
    "    These columns won't be helpful at all. They're too specific,\n",
    "    We want to generalize so the solution will work for as much\n",
    "    observations as we'll have."
   ]
  },
  {
   "cell_type": "code",
   "execution_count": 20,
   "metadata": {},
   "outputs": [],
   "source": [
    "drop_columns = ['row_number','customer_id','surname']\n",
    "data_frame.drop(columns=drop_columns, inplace=True)"
   ]
  }
 ],
 "metadata": {
  "kernelspec": {
   "display_name": "Python 3",
   "language": "python",
   "name": "python3"
  },
  "language_info": {
   "codemirror_mode": {
    "name": "ipython",
    "version": 3
   },
   "file_extension": ".py",
   "mimetype": "text/x-python",
   "name": "python",
   "nbconvert_exporter": "python",
   "pygments_lexer": "ipython3",
   "version": "3.7.6"
  }
 },
 "nbformat": 4,
 "nbformat_minor": 4
}
